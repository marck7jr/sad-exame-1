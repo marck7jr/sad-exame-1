{
 "cells": [
  {
   "cell_type": "markdown",
   "metadata": {},
   "source": [
    "# SI 2020/1 - Sistemas a Decisão - Exame 1\n",
    "\n",
    "Como parte da avaliação da disciplina de Sistema a Decisão ministrada pelo Prof.: Jean Caminha, foi proposta a seguinte atividade:\n",
    "\n",
    "## EXAME - Implementação de um SAD\n",
    "Implemente um SAD aplicando os conceitos das técnicas de desenvolvimento de sistemas de apoio a decisão em uma base de dados pública.\n",
    "\n",
    "Na implentação deve estar clara os seguintes pontos:\n",
    "\n",
    "- Qual decisão este sistema vai apoiar;\n",
    "\n",
    "- O processo de ETL;\n",
    "\n",
    "- Qual o modelo utilizado e por que?\n",
    "\n",
    "- Visualização dos dados\n",
    "\n",
    "- Conclusão e/ou melhor decisão.\n",
    "\n",
    "Observaçoes:\n",
    "\n",
    "1. Você pode utilizar qualquer linguagem de implantação e BD que você domine. Sugiro no entanto utilizar a plataforma Kaggle ou Google Colab e submeta o link como resposta (maneira mais fácil).\n",
    "\n",
    "2. São fontes de dados:\n",
    "\n",
    "- http://dados.gov.br/ \n",
    "\n",
    "- https://github.com/awesomedata/awesome-public-datasets\n",
    "\n",
    "3. Um trabalho por aluno(a). Trabalhos iguais terão a nota zero.\n",
    "\n",
    "4. Utilize o forum para dúvias sobre esta tarefa.\n",
    "\n",
    "Bom trabalho à todos.\n",
    "\n",
    "Jean\n",
    "\n",
    "Explorando pelos bancos dados disponíveis recomendados pelo professor e, devido à minha experiência com a linguagem de programação [C#](https://docs.microsoft.com/pt-br/dotnet/csharp/), procurei nas documentações da [Microsof](https://docs.microsoft.com/en-us/documentation/) se havia alguma maneira de praticar técnicas de aprendizado de máquina e, felizmente, encontrei o framework [ML.NET](https://docs.microsoft.com/en-us/dotnet/machine-learning/) que permite criar modelos customizados de aprendizado de máquina para ser consumido pelas aplicações [.NET](https://docs.microsoft.com/en-us/dotnet/).\n",
    "\n",
    "Lendo a documentação também tive o conhecimento da utilização da ferramenta [ML.NET Model Builder](https://docs.microsoft.com/en-us/dotnet/machine-learning/automate-training-with-model-builder) que basicamente é uma extensão gráfica para IDE da Microsoft, [Visual Studio](https://visualstudio.microsoft.com/), que permite a criação automática desses modelos preenchendo alguns requisitos:\n",
    "\n",
    "- Cenário: Basicamente é em qual tipo de aprendizado que o seu modelo deverá se basear. Dentre as opções havia classificação de imagens usando o [Azure](https://azure.microsoft.com/pt-br/) como unidade de processamento, predição de preços usando algoritmos de regressão, recomendação de filmes e também classificação de sentimentos em textos que foi o cenário selecionado por mim.\n",
    "\n",
    "- Dados: O [ML.NET Model Builder](https://docs.microsoft.com/en-us/dotnet/machine-learning/automate-training-with-model-builder) tem suporte a uma vasta gama de arquivos suportados dentre eles podemos citar CSV, TSC e outros além do suporte a banco de dados do SQL Server.\n",
    "\n",
    "- Treinamento: De longe o processo mais demorado que consiste em selecionar quais colunas, ou *inouts* melhor dizendo, que serão utilizados durante o treinamento, bem como qual valor de predição que desejo alcançar. O treinamento támbem permite escolher o tempo máximo do processamento que consiste na execução e comparação dos algoritmos de aprendizado de máquina classificando-os e selecionando aquele que obteve o melhor desempenho e eficácia nos resultados.\n",
    "\n",
    "- Avaliação: Esse processo se limita apenas em testar se o modelo criado está funcionando adequadamente preenchendo lacunas necessárias para que a modelo posso realizar a predição.\n",
    "\n",
    "Nos momentos iniciais das minhas tentativas de construção, em menos 30 minutos já tinha modelo pronto para ser usado, porém como pré-requisito da atividade necessitava a demonstração dos valores e suas devidas tranformações, tive que recorrer a procurar um modelo que se assemelha-se ao [Jupyter](https://jupyter.org/) para realizar o *storytelling* dos meus dados. Fazendo pesquisas tive a descoberta que o Jupyter era um framework versátil que permitia sua utilização com outras linguagens além do [Python](https://www.python.org/) e além disso, devido ao [.NET Interactive](https://devblogs.microsoft.com/dotnet/net-interactive-is-here-net-notebooks-preview-2/), a linguagem [C#](https://docs.microsoft.com/pt-br/dotnet/csharp/) poderia ser utilizada para a criação de *notebooks* dentro do Jupyter que será o modelo utilizado nesse exame.\n",
    "\n",
    "## Qual decisão este sistema vai apoiar\n",
    "\n",
    "Como dito anteriormente, o modelo irá se basear no processamento e classificação de sentimentos textos (em inglês) utilizando os dados disponíveis em [Sentiment140](http://help.sentiment140.com/for-students/).\n",
    "\n",
    "## O processo de ETL\n",
    "\n",
    "Como os dados providos pelo [Sentiment140](http://cs.stanford.edu/people/alecmgo/trainingandtestdata.zip) que se resumem em uma arquivo CSV com mais de \n",
    "1.5 milhão de linhas sem cabeçalho, um *script* é executado adicionando cabeçalhos customizados para a representação facilitada das colunas. Entretanto, na descrição do *dataset* detalha que os dados foram analisados e distribuídos com os seus devidos valores de sentimento sendo 0 para negativo, 2 para neutro e 4 para positivo. Porém, ao realizar estudos estatísticos nos dados fornecidos, pode-se concluir que os dados estavam polarizados de forma binária com textos e sentimentos atribuídos em valores variando entre apenas 0 e 2 (ver abaixo). Logo, o modelo de ETL ficou assim:"
   ]
  },
  {
   "cell_type": "markdown",
   "metadata": {},
   "source": [
    "Para a realização da atividade e a execução dos scripts, foram utilizados os seguintes pacotes externos providos pelo [Nuget](https://www.nuget.org/):\n",
    "\n",
    "- [Microsoft.ML](https://www.nuget.org/packages/Microsoft.ML/): Fornece classes e métodos para a criação, treinamento e avaliação de modelos de aprendizado de máquina.\n",
    "\n",
    "- [Microsoft.Data.Analysis](https://www.nuget.org/packages/Microsoft.Data.Analysis/): Fornece classes e métodos para a manipulação de dados de forma semelhante ao presente no framework [pandas](https://pandas.pydata.org/), mas o pacote ainda está em desenvolvimento. Utilizado como uma alternativa menos verbosa para a auxiliar na plotagem dos dados.\n",
    "\n",
    "- [XPlot.Plotly](https://www.nuget.org/packages/XPlot.Plotly): Possui componentes auxiliares para a plotagem de dados em forma de gráficos além de possuir implementações similares das ferramentas do [Google Charts](https://developers.google.com/chart/) com suporte às aplicações [.NET](https://docs.microsoft.com/en-us/dotnet/)."
   ]
  },
  {
   "cell_type": "code",
   "execution_count": 1,
   "metadata": {},
   "source": [
    "#r \"nuget:Microsoft.ML, 1.5.2\"\n",
    "#r \"nuget:Microsoft.Data.Analysis, 0.4.0\"\n",
    "\n",
    "using Microsoft.AspNetCore.Html;\n",
    "using Microsoft.Data.Analysis;\n",
    "using Microsoft.ML;\n",
    "using Microsoft.ML.Data;\n",
    "using System.IO;\n",
    "using System.IO.Compression;\n",
    "using System.Net;\n",
    "using XPlot.Plotly;"
   ],
   "outputs": []
  },
  {
   "cell_type": "code",
   "execution_count": 1,
   "metadata": {},
   "source": [
    "public class ModelInput\n",
    "{\n",
    "    [ColumnName(\"Sentiment\"), LoadColumn(0)]\n",
    "    public string Sentiment { get; set; }\n",
    "\n",
    "\n",
    "    [ColumnName(\"ID\"), LoadColumn(1)]\n",
    "    public float ID { get; set; }\n",
    "\n",
    "\n",
    "    [ColumnName(\"Date\"), LoadColumn(2)]\n",
    "    public string Date { get; set; }\n",
    "\n",
    "\n",
    "    [ColumnName(\"Query\"), LoadColumn(3)]\n",
    "    public string Query { get; set; }\n",
    "\n",
    "\n",
    "    [ColumnName(\"User\"), LoadColumn(4)]\n",
    "    public string User { get; set; }\n",
    "\n",
    "\n",
    "    [ColumnName(\"Text\"), LoadColumn(5)]\n",
    "    public string Text { get; set; }\n",
    "}\n",
    ""
   ],
   "outputs": []
  },
  {
   "cell_type": "markdown",
   "metadata": {},
   "source": [
    "E para o modelo de resultado, ele resume basicamente em uma **string** representando o nome e um *array* do tipo **float** do valor que o modelo irá tentar realizar a predição. Logo, ficando assim:"
   ]
  },
  {
   "cell_type": "code",
   "execution_count": 1,
   "metadata": {},
   "source": [
    "public class ModelOutput\n",
    "{\n",
    "    [ColumnName(\"PredictedLabel\")]\n",
    "    public String Prediction { get; set; }\n",
    "    public float[] Score { get; set; }\n",
    "}"
   ],
   "outputs": []
  },
  {
   "cell_type": "markdown",
   "metadata": {},
   "source": [
    "Para a execução do script, foram definidos algumas constantes:\n",
    "\n",
    "- DATASET_ABSOLUTEURI: URL dos dados da [Sentiment140](http://help.sentiment140.com/for-students/)\n",
    "- MODEL_FILEPATH: Nome do arquivo do modelo de aprendizado de máquina já treinado gerado pelo script.\n",
    "- TRAIN_DATA_FILEPATH: Nome do arquivo CSV utilizado para o treinamento do modelo, presente dentro do ZIP fornecido pela [Sentiment140](http://cs.stanford.edu/people/alecmgo/trainingandtestdata.zip)\n",
    "- TEST_DATA_FILEPATH: Nome do arquvido CSV fornecido pela [Sentiment140](http://cs.stanford.edu/people/alecmgo/trainingandtestdata.zip) para a realização de teste. Não utilizado no script."
   ]
  },
  {
   "cell_type": "code",
   "execution_count": 1,
   "metadata": {},
   "source": [
    "public const string DATASET_ABSOLUTEURI = \"http://cs.stanford.edu/people/alecmgo/trainingandtestdata.zip\";\n",
    "public const string MODEL_FILEPATH = \"MLModel.zip\";\n",
    "public const string TRAIN_DATA_FILEPATH = \"training.1600000.processed.noemoticon.csv\";\n",
    "public const string TEST_DATA_FILEPATH = \"testdata.manual.2009.06.14.csv\";"
   ],
   "outputs": []
  },
  {
   "cell_type": "markdown",
   "metadata": {},
   "source": [
    "Define métodos para o download(se necessário) do *dataset* bem como também a inserção do cabeçalho faltante no arquivo CSV fornecido."
   ]
  },
  {
   "cell_type": "code",
   "execution_count": 1,
   "metadata": {},
   "source": [
    "public void AddCsvHeaders(){\n",
    "    var headers = new[]{\n",
    "        \"\\\"Sentiment\\\"\",\n",
    "        \"\\\"ID\\\"\",\n",
    "        \"\\\"Date\\\"\",\n",
    "        \"\\\"Query\\\"\",\n",
    "        \"\\\"User\\\"\",\n",
    "        \"\\\"Text\\\"\",\n",
    "    };\n",
    "\n",
    "    var headerLine = string.Join(',', headers);\n",
    "\n",
    "    var lines = File.ReadAllLines(Path.GetFileName(TRAIN_DATA_FILEPATH)).ToList();\n",
    "    lines.Insert(0, headerLine);\n",
    "\n",
    "    File.WriteAllLines(TRAIN_DATA_FILEPATH, lines);\n",
    "}\n",
    "\n",
    "public void LoadDataSet(){\n",
    "    if (!File.Exists(Path.GetFileName(DATASET_ABSOLUTEURI))){\n",
    "        using (var webClient = new WebClient()){\n",
    "            webClient.DownloadFile(DATASET_ABSOLUTEURI, Path.GetFileName(DATASET_ABSOLUTEURI));\n",
    "        }\n",
    "    }\n",
    "\n",
    "    if (!File.Exists(TRAIN_DATA_FILEPATH)){\n",
    "        ZipFile.ExtractToDirectory(Path.GetFileName(DATASET_ABSOLUTEURI), Environment.CurrentDirectory);\n",
    "        AddCsvHeaders();\n",
    "    }\n",
    "}\n",
    "\n",
    "LoadDataSet();"
   ],
   "outputs": []
  },
  {
   "cell_type": "markdown",
   "metadata": {},
   "source": [
    "Define um método que registra um formator dos dados para serem listados devidamente com suas colunas e seus respectivos dados que por padrão retorna 20 tupplas."
   ]
  },
  {
   "cell_type": "code",
   "execution_count": 1,
   "metadata": {},
   "source": [
    "public void AddDataFrameFormatter(int count = 20){\n",
    "    Formatter.Register<DataFrame>((df, writer) =>\n",
    "    {\n",
    "        var headers = new List<IHtmlContent>();\n",
    "        headers.Add(th(i(\"Index\")));\n",
    "        headers.AddRange(df.Columns.Select(c => (IHtmlContent) th(c.Name)));\n",
    "    \n",
    "        var rows = new List<List<IHtmlContent>>();\n",
    "        for (var i = 0; i < Math.Min(count, df.Rows.Count); i++)\n",
    "        {\n",
    "            var cells = new List<IHtmlContent>();\n",
    "    \n",
    "            cells.Add(td(i));\n",
    "    \n",
    "            foreach (var obj in df.Rows[i])\n",
    "            {\n",
    "                cells.Add(td(obj));\n",
    "            }\n",
    "            \n",
    "            rows.Add(cells);\n",
    "        }\n",
    "    \n",
    "        var t = table(\n",
    "            thead(\n",
    "                headers),\n",
    "            tbody(\n",
    "                rows.Select(\n",
    "                    r => tr(r))));\n",
    "    \n",
    "        writer.Write(t);\n",
    "    }, \"text/html\");\n",
    "}\n",
    "\n",
    "AddDataFrameFormatter();"
   ],
   "outputs": []
  },
  {
   "cell_type": "markdown",
   "metadata": {},
   "source": [
    "Carrega e extrai todos os dados de suas devidas colunas e montra um dataframe com as mesmas colunas e suas respectivas tuplas e exibe a quantidade tuplas carregadas."
   ]
  },
  {
   "cell_type": "code",
   "execution_count": 1,
   "metadata": {},
   "source": [
    "var mlContext = new MLContext(seed: 0);\n",
    "\n",
    "var trainingDataView = mlContext.Data.LoadFromTextFile<ModelInput>(\n",
    "    path: TRAIN_DATA_FILEPATH,\n",
    "    hasHeader: true,\n",
    "    separatorChar: ',',\n",
    "    allowQuoting: true,\n",
    "    allowSparse: false\n",
    ");\n",
    "\n",
    "var sentimentColumnValues = trainingDataView.GetColumn<string>(nameof(ModelInput.Sentiment));\n",
    "var idColumnValues = trainingDataView.GetColumn<float>(nameof(ModelInput.ID));\n",
    "var dateColumnValues = trainingDataView.GetColumn<string>(nameof(ModelInput.Date));\n",
    "var queryColumnValues = trainingDataView.GetColumn<string>(nameof(ModelInput.Query));\n",
    "var userColumnValues = trainingDataView.GetColumn<string>(nameof(ModelInput.User));\n",
    "var textColumnValues = trainingDataView.GetColumn<string>(nameof(ModelInput.Text));\n",
    "\n",
    "var sentimentColumn = new StringDataFrameColumn(nameof(ModelInput.Sentiment), sentimentColumnValues);\n",
    "var idColumn = new PrimitiveDataFrameColumn<float>(nameof(ModelInput.ID), idColumnValues);\n",
    "var dateColumn = new StringDataFrameColumn(nameof(ModelInput.Date), dateColumnValues);\n",
    "var queryColumn = new StringDataFrameColumn(nameof(ModelInput.Query), queryColumnValues);\n",
    "var userColumn = new StringDataFrameColumn(nameof(ModelInput.User), userColumnValues);\n",
    "var textColumn = new StringDataFrameColumn(nameof(ModelInput.Text), textColumnValues);\n",
    "\n",
    "var df = new DataFrame(sentimentColumn, idColumn, dateColumn, queryColumn, userColumn, textColumn);\n",
    "\n",
    "var count = $\"Rows: {idColumnValues.Count()}\";\n",
    "\n",
    "count"
   ],
   "outputs": [
    {
     "output_type": "execute_result",
     "data": {
      "text/plain": "Rows: 1600000"
     },
     "execution_count": 1,
     "metadata": {}
    }
   ]
  },
  {
   "cell_type": "markdown",
   "metadata": {},
   "source": [
    "Exibe o dataframe."
   ]
  },
  {
   "cell_type": "code",
   "execution_count": 1,
   "metadata": {},
   "source": [
    "df"
   ],
   "outputs": [
    {
     "output_type": "execute_result",
     "data": {
      "text/html": "<table><thead><th><i>Index</i></th><th>Sentiment</th><th>ID</th><th>Date</th><th>Query</th><th>User</th><th>Text</th></thead><tbody><tr><td><div class=\"dni-plaintext\">0</div></td><td>0</td><td><div class=\"dni-plaintext\">1.4678104E+09</div></td><td>Mon Apr 06 22:19:45 PDT 2009</td><td>NO_QUERY</td><td>_TheSpecialOne_</td><td>@switchfoot http://twitpic.com/2y1zl - Awww, that&#39;s a bummer.  You shoulda got David Carr of Third Day to do it. ;D</td></tr><tr><td><div class=\"dni-plaintext\">1</div></td><td>0</td><td><div class=\"dni-plaintext\">1.4678107E+09</div></td><td>Mon Apr 06 22:19:49 PDT 2009</td><td>NO_QUERY</td><td>scotthamilton</td><td>is upset that he can&#39;t update his Facebook by texting it... and might cry as a result  School today also. Blah!</td></tr><tr><td><div class=\"dni-plaintext\">2</div></td><td>0</td><td><div class=\"dni-plaintext\">1.467811E+09</div></td><td>Mon Apr 06 22:19:53 PDT 2009</td><td>NO_QUERY</td><td>mattycus</td><td>@Kenichan I dived many times for the ball. Managed to save 50%  The rest go out of bounds</td></tr><tr><td><div class=\"dni-plaintext\">3</div></td><td>0</td><td><div class=\"dni-plaintext\">1.4678112E+09</div></td><td>Mon Apr 06 22:19:57 PDT 2009</td><td>NO_QUERY</td><td>ElleCTF</td><td>my whole body feels itchy and like its on fire </td></tr><tr><td><div class=\"dni-plaintext\">4</div></td><td>0</td><td><div class=\"dni-plaintext\">1.4678112E+09</div></td><td>Mon Apr 06 22:19:57 PDT 2009</td><td>NO_QUERY</td><td>Karoli</td><td>@nationwideclass no, it&#39;s not behaving at all. i&#39;m mad. why am i here? because I can&#39;t see you all over there. </td></tr><tr><td><div class=\"dni-plaintext\">5</div></td><td>0</td><td><div class=\"dni-plaintext\">1.4678113E+09</div></td><td>Mon Apr 06 22:20:00 PDT 2009</td><td>NO_QUERY</td><td>joy_wolf</td><td>@Kwesidei not the whole crew </td></tr><tr><td><div class=\"dni-plaintext\">6</div></td><td>0</td><td><div class=\"dni-plaintext\">1.4678116E+09</div></td><td>Mon Apr 06 22:20:03 PDT 2009</td><td>NO_QUERY</td><td>mybirch</td><td>Need a hug </td></tr><tr><td><div class=\"dni-plaintext\">7</div></td><td>0</td><td><div class=\"dni-plaintext\">1.4678116E+09</div></td><td>Mon Apr 06 22:20:03 PDT 2009</td><td>NO_QUERY</td><td>coZZ</td><td>@LOLTrish hey  long time no see! Yes.. Rains a bit ,only a bit  LOL , I&#39;m fine thanks , how&#39;s you ?</td></tr><tr><td><div class=\"dni-plaintext\">8</div></td><td>0</td><td><div class=\"dni-plaintext\">1.4678118E+09</div></td><td>Mon Apr 06 22:20:05 PDT 2009</td><td>NO_QUERY</td><td>2Hood4Hollywood</td><td>@Tatiana_K nope they didn&#39;t have it </td></tr><tr><td><div class=\"dni-plaintext\">9</div></td><td>0</td><td><div class=\"dni-plaintext\">1.467812E+09</div></td><td>Mon Apr 06 22:20:09 PDT 2009</td><td>NO_QUERY</td><td>mimismo</td><td>@twittera que me muera ? </td></tr><tr><td><div class=\"dni-plaintext\">10</div></td><td>0</td><td><div class=\"dni-plaintext\">1.4678124E+09</div></td><td>Mon Apr 06 22:20:16 PDT 2009</td><td>NO_QUERY</td><td>erinx3leannexo</td><td>spring break in plain city... it&#39;s snowing </td></tr><tr><td><div class=\"dni-plaintext\">11</div></td><td>0</td><td><div class=\"dni-plaintext\">1.4678126E+09</div></td><td>Mon Apr 06 22:20:17 PDT 2009</td><td>NO_QUERY</td><td>pardonlauren</td><td>I just re-pierced my ears </td></tr><tr><td><div class=\"dni-plaintext\">12</div></td><td>0</td><td><div class=\"dni-plaintext\">1.4678127E+09</div></td><td>Mon Apr 06 22:20:19 PDT 2009</td><td>NO_QUERY</td><td>TLeC</td><td>@caregiving I couldn&#39;t bear to watch it.  And I thought the UA loss was embarrassing . . . . .</td></tr><tr><td><div class=\"dni-plaintext\">13</div></td><td>0</td><td><div class=\"dni-plaintext\">1.4678127E+09</div></td><td>Mon Apr 06 22:20:19 PDT 2009</td><td>NO_QUERY</td><td>robrobbierobert</td><td>@octolinz16 It it counts, idk why I did either. you never talk to me anymore </td></tr><tr><td><div class=\"dni-plaintext\">14</div></td><td>0</td><td><div class=\"dni-plaintext\">1.4678127E+09</div></td><td>Mon Apr 06 22:20:20 PDT 2009</td><td>NO_QUERY</td><td>bayofwolves</td><td>@smarrison i would&#39;ve been the first, but i didn&#39;t have a gun.    not really though, zac snyder&#39;s just a doucheclown.</td></tr><tr><td><div class=\"dni-plaintext\">15</div></td><td>0</td><td><div class=\"dni-plaintext\">1.4678127E+09</div></td><td>Mon Apr 06 22:20:20 PDT 2009</td><td>NO_QUERY</td><td>HairByJess</td><td>@iamjazzyfizzle I wish I got to watch it with you!! I miss you and @iamlilnicki  how was the premiere?!</td></tr><tr><td><div class=\"dni-plaintext\">16</div></td><td>0</td><td><div class=\"dni-plaintext\">1.467813E+09</div></td><td>Mon Apr 06 22:20:22 PDT 2009</td><td>NO_QUERY</td><td>lovesongwriter</td><td>Hollis&#39; death scene will hurt me severely to watch on film  wry is directors cut not out now?</td></tr><tr><td><div class=\"dni-plaintext\">17</div></td><td>0</td><td><div class=\"dni-plaintext\">1.4678131E+09</div></td><td>Mon Apr 06 22:20:25 PDT 2009</td><td>NO_QUERY</td><td>armotley</td><td>about to file taxes </td></tr><tr><td><div class=\"dni-plaintext\">18</div></td><td>0</td><td><div class=\"dni-plaintext\">1.4678136E+09</div></td><td>Mon Apr 06 22:20:31 PDT 2009</td><td>NO_QUERY</td><td>starkissed</td><td>@LettyA ahh ive always wanted to see rent  love the soundtrack!!</td></tr><tr><td><div class=\"dni-plaintext\">19</div></td><td>0</td><td><div class=\"dni-plaintext\">1.4678138E+09</div></td><td>Mon Apr 06 22:20:34 PDT 2009</td><td>NO_QUERY</td><td>gi_gi_bee</td><td>@FakerPattyPattz Oh dear. Were you drinking out of the forgotten table drinks? </td></tr></tbody></table>"
     },
     "execution_count": 1,
     "metadata": {}
    }
   ]
  },
  {
   "cell_type": "markdown",
   "metadata": {},
   "source": [
    "Utiliza o XPlot.Plotly para criar um gráfico pizza para agrupar as tuplas pelo valor do sentimento e, como dito anteriorte, aqui foi verificado a polarização binária dos dados."
   ]
  },
  {
   "cell_type": "code",
   "execution_count": 1,
   "metadata": {},
   "source": [
    "var groupedSentimentColumnValues = sentimentColumnValues.GroupBy(_ => _);\n",
    "\n",
    "var pieChart = new Graph.Pie {\n",
    "    values = groupedSentimentColumnValues.Select(_ => _.Count()),\n",
    "    labels = groupedSentimentColumnValues.Select(_ => _.Key),\n",
    "};\n",
    "\n",
    "var piePlot = Chart.Plot(pieChart);\n",
    "\n",
    "piePlot"
   ],
   "outputs": [
    {
     "output_type": "execute_result",
     "data": {
      "text/html": "<div id=\"cfbd1fe6-3209-4f3a-ae8c-60507002a43a\" style=\"width: 900px; height: 500px;\"></div>\r\n<script type=\"text/javascript\">\r\n\r\nvar renderPlotly = function() {\r\n    var xplotRequire = require.config({context:'xplot-3.0.1',paths:{plotly:'https://cdn.plot.ly/plotly-1.49.2.min'}}) || require;\r\n    xplotRequire(['plotly'], function(Plotly) {\r\n\n            var data = [{\"type\":\"pie\",\"labels\":[\"0\",\"4\"],\"values\":[800000,800000]}];\n            var layout = \"\";\n            Plotly.newPlot('cfbd1fe6-3209-4f3a-ae8c-60507002a43a', data, layout);\n        \r\n});\r\n};\r\n// ensure `require` is available globally\r\nif ((typeof(require) !==  typeof(Function)) || (typeof(require.config) !== typeof(Function))) {\r\n    let require_script = document.createElement('script');\r\n    require_script.setAttribute('src', 'https://cdnjs.cloudflare.com/ajax/libs/require.js/2.3.6/require.min.js');\r\n    require_script.setAttribute('type', 'text/javascript');\r\n    \r\n    \r\n    require_script.onload = function() {\r\n        renderPlotly();\r\n    };\r\n\r\n    document.getElementsByTagName('head')[0].appendChild(require_script);\r\n}\r\nelse {\r\n    renderPlotly();\r\n}\r\n\r\n</script>\r\n"
     },
     "execution_count": 1,
     "metadata": {}
    }
   ]
  },
  {
   "cell_type": "markdown",
   "metadata": {},
   "source": [
    "Cria um método para fornecer um *pipeline* de treinamento de dados que consiste em mapear os valores da coluna sentimento em forma de identificadores criando um *input* dos textos relacionados ao sentimento atribuído realizando ao final a normalização dos valores máximos e minímos para o valor de sentimento que, neste caso, ficou polarizado entre apenas os valores 0 e 4 que devido a isso, o [ML.NET Model Builder](https://docs.microsoft.com/en-us/dotnet/machine-learning/automate-training-with-model-builder) utilizou o método de treinamento de multiclasse, ou também conhecido como multi nomial, que permite fragmentar os dados e torna-los independentes, ou seja, ele não analisa a correlação entre eles e além disso utilizou a estratégia *one-versus-all* que dentro os modelos de classificação que, diferente do *one-versus-one* que faz a predição de uma classe a outra, a multi nomial pode prever para uma ou mais classes."
   ]
  },
  {
   "cell_type": "code",
   "execution_count": 1,
   "metadata": {},
   "source": [
    "public IEstimator<ITransformer> BuildTrainingPipeline(MLContext mlContext){\n",
    "    var dataProcessPipeline = mlContext.Transforms.Conversion.MapValueToKey(\"Sentiment\", \"Sentiment\")\n",
    "        .Append(mlContext.Transforms.Text.FeaturizeText(\"Text_tf\", \"Text\"))\n",
    "        .Append(mlContext.Transforms.CopyColumns(\"Features\", \"Text_tf\"))\n",
    "        .Append(mlContext.Transforms.NormalizeMinMax(\"Features\", \"Features\"))\n",
    "        .AppendCacheCheckpoint(mlContext);\n",
    "        \n",
    "    var trainer = mlContext.MulticlassClassification.Trainers.OneVersusAll(mlContext.BinaryClassification.Trainers.AveragedPerceptron(labelColumnName: \"Sentiment\", numberOfIterations: 10, featureColumnName: \"Features\"), labelColumnName: \"Sentiment\")\n",
    "        .Append(mlContext.Transforms.Conversion.MapKeyToValue(\"PredictedLabel\", \"PredictedLabel\"));\n",
    "\n",
    "    var trainingPipeline = dataProcessPipeline.Append(trainer);\n",
    "\n",
    "    return trainingPipeline;\n",
    "}"
   ],
   "outputs": []
  },
  {
   "cell_type": "markdown",
   "metadata": {},
   "source": [
    "Cria um método para a realização do treinamento do modelo."
   ]
  },
  {
   "cell_type": "code",
   "execution_count": 1,
   "metadata": {},
   "source": [
    "public ITransformer TrainModel(MLContext mlContext, IDataView trainingDataView, IEstimator<ITransformer> trainingPipeline)\n",
    "{\n",
    "    Console.WriteLine(\"=============== Training  model ===============\");\n",
    "\n",
    "    ITransformer model = trainingPipeline.Fit(trainingDataView);\n",
    "\n",
    "    Console.WriteLine(\"=============== End of training process ===============\");\n",
    "    return model;\n",
    "}"
   ],
   "outputs": []
  },
  {
   "cell_type": "markdown",
   "metadata": {},
   "source": [
    "Cria métodos para exibir métricas do modelo de classificação multi nomial."
   ]
  },
  {
   "cell_type": "code",
   "execution_count": 1,
   "metadata": {},
   "source": [
    "public static void PrintMulticlassClassificationMetrics(MulticlassClassificationMetrics metrics)\n",
    "{\n",
    "    Console.WriteLine($\"************************************************************\");\n",
    "    Console.WriteLine($\"*    Metrics for multi-class classification model   \");\n",
    "    Console.WriteLine($\"*-----------------------------------------------------------\");\n",
    "    Console.WriteLine($\"    MacroAccuracy = {metrics.MacroAccuracy:0.####}, a value between 0 and 1, the closer to 1, the better\");\n",
    "    Console.WriteLine($\"    MicroAccuracy = {metrics.MicroAccuracy:0.####}, a value between 0 and 1, the closer to 1, the better\");\n",
    "    Console.WriteLine($\"    LogLoss = {metrics.LogLoss:0.####}, the closer to 0, the better\");\n",
    "    for (int i = 0; i < metrics.PerClassLogLoss.Count; i++)\n",
    "    {\n",
    "        Console.WriteLine($\"    LogLoss for class {i + 1} = {metrics.PerClassLogLoss[i]:0.####}, the closer to 0, the better\");\n",
    "    }\n",
    "    Console.WriteLine($\"************************************************************\");\n",
    "}\n",
    "\n",
    "public void PrintMulticlassClassificationFoldsAverageMetrics(IEnumerable<TrainCatalogBase.CrossValidationResult<MulticlassClassificationMetrics>> crossValResults)\n",
    "{\n",
    "    var metricsInMultipleFolds = crossValResults.Select(r => r.Metrics);\n",
    "\n",
    "    var microAccuracyValues = metricsInMultipleFolds.Select(m => m.MicroAccuracy);\n",
    "    var microAccuracyAverage = microAccuracyValues.Average();\n",
    "    var microAccuraciesStdDeviation = CalculateStandardDeviation(microAccuracyValues);\n",
    "    var microAccuraciesConfidenceInterval95 = CalculateConfidenceInterval95(microAccuracyValues);\n",
    "\n",
    "    var macroAccuracyValues = metricsInMultipleFolds.Select(m => m.MacroAccuracy);\n",
    "    var macroAccuracyAverage = macroAccuracyValues.Average();\n",
    "    var macroAccuraciesStdDeviation = CalculateStandardDeviation(macroAccuracyValues);\n",
    "    var macroAccuraciesConfidenceInterval95 = CalculateConfidenceInterval95(macroAccuracyValues);\n",
    "\n",
    "    var logLossValues = metricsInMultipleFolds.Select(m => m.LogLoss);\n",
    "    var logLossAverage = logLossValues.Average();\n",
    "    var logLossStdDeviation = CalculateStandardDeviation(logLossValues);\n",
    "    var logLossConfidenceInterval95 = CalculateConfidenceInterval95(logLossValues);\n",
    "\n",
    "    var logLossReductionValues = metricsInMultipleFolds.Select(m => m.LogLossReduction);\n",
    "    var logLossReductionAverage = logLossReductionValues.Average();\n",
    "    var logLossReductionStdDeviation = CalculateStandardDeviation(logLossReductionValues);\n",
    "    var logLossReductionConfidenceInterval95 = CalculateConfidenceInterval95(logLossReductionValues);\n",
    "\n",
    "    Console.WriteLine($\"*************************************************************************************************************\");\n",
    "    Console.WriteLine($\"*       Metrics for Multi-class Classification model      \");\n",
    "    Console.WriteLine($\"*------------------------------------------------------------------------------------------------------------\");\n",
    "    Console.WriteLine($\"*       Average MicroAccuracy:    {microAccuracyAverage:0.###}  - Standard deviation: ({microAccuraciesStdDeviation:#.###})  - Confidence Interval 95%: ({microAccuraciesConfidenceInterval95:#.###})\");\n",
    "    Console.WriteLine($\"*       Average MacroAccuracy:    {macroAccuracyAverage:0.###}  - Standard deviation: ({macroAccuraciesStdDeviation:#.###})  - Confidence Interval 95%: ({macroAccuraciesConfidenceInterval95:#.###})\");\n",
    "    Console.WriteLine($\"*       Average LogLoss:          {logLossAverage:#.###}  - Standard deviation: ({logLossStdDeviation:#.###})  - Confidence Interval 95%: ({logLossConfidenceInterval95:#.###})\");\n",
    "    Console.WriteLine($\"*       Average LogLossReduction: {logLossReductionAverage:#.###}  - Standard deviation: ({logLossReductionStdDeviation:#.###})  - Confidence Interval 95%: ({logLossReductionConfidenceInterval95:#.###})\");\n",
    "    Console.WriteLine($\"*************************************************************************************************************\");\n",
    "\n",
    "}\n",
    "\n",
    "public double CalculateStandardDeviation(IEnumerable<double> values)\n",
    "{\n",
    "    double average = values.Average();\n",
    "    double sumOfSquaresOfDifferences = values.Select(val => (val - average) * (val - average)).Sum();\n",
    "    double standardDeviation = Math.Sqrt(sumOfSquaresOfDifferences / (values.Count() - 1));\n",
    "    return standardDeviation;\n",
    "}\n",
    "\n",
    "public double CalculateConfidenceInterval95(IEnumerable<double> values)\n",
    "{\n",
    "    double confidenceInterval95 = 1.96 * CalculateStandardDeviation(values) / Math.Sqrt((values.Count() - 1));\n",
    "    return confidenceInterval95;\n",
    "}"
   ],
   "outputs": []
  },
  {
   "cell_type": "markdown",
   "metadata": {},
   "source": [
    "Cria método para avaliar o modelo de predição."
   ]
  },
  {
   "cell_type": "code",
   "execution_count": 1,
   "metadata": {},
   "source": [
    "private void Evaluate(MLContext mlContext, IDataView trainingDataView, IEstimator<ITransformer> trainingPipeline){\n",
    "    Console.WriteLine(\"=============== Cross-validating to get model's accuracy metrics ===============\");\n",
    "    var crossValidationResults = mlContext.MulticlassClassification.CrossValidate(trainingDataView, trainingPipeline, numberOfFolds: 5, labelColumnName: \"Sentiment\");\n",
    "    PrintMulticlassClassificationFoldsAverageMetrics(crossValidationResults);\n",
    "}"
   ],
   "outputs": []
  },
  {
   "cell_type": "markdown",
   "metadata": {},
   "source": [
    "Cria método para salvar o treinamento do modelo para um arquivo."
   ]
  },
  {
   "cell_type": "code",
   "execution_count": 1,
   "metadata": {},
   "source": [
    "private static void SaveModel(MLContext mlContext, ITransformer mlModel, string modelRelativePath, DataViewSchema modelInputSchema){\n",
    "    Console.WriteLine($\"=============== Saving the model  ===============\");\n",
    "    mlContext.Model.Save(mlModel, modelInputSchema, modelRelativePath);\n",
    "    Console.WriteLine(\"The model is saved to {0}\", modelRelativePath);\n",
    "}"
   ],
   "outputs": []
  },
  {
   "cell_type": "markdown",
   "metadata": {},
   "source": [
    "Cria método para a criação, treinamento, avaliação e salvação do modelo de treinamento."
   ]
  },
  {
   "cell_type": "code",
   "execution_count": 1,
   "metadata": {},
   "source": [
    "public void CreateModel(MLContext mlContext, IDataView trainingDataView, string modelFilePath)\n",
    "{\n",
    "    IEstimator<ITransformer> trainingPipeline = BuildTrainingPipeline(mlContext);\n",
    "\n",
    "    ITransformer mlModel = TrainModel(mlContext, trainingDataView, trainingPipeline);\n",
    "\n",
    "    Evaluate(mlContext, trainingDataView, trainingPipeline);\n",
    "    SaveModel(mlContext, mlModel, modelFilePath, trainingDataView.Schema);\n",
    "}"
   ],
   "outputs": []
  },
  {
   "cell_type": "markdown",
   "metadata": {},
   "source": [
    "O modelo só sera criado se não houver algum arquivo de \"conhecimento\" pré-salvo."
   ]
  },
  {
   "cell_type": "code",
   "execution_count": 1,
   "metadata": {},
   "source": [
    "if (!File.Exists(MODEL_FILEPATH)){\n",
    "    CreateModel(mlContext, trainingDataView, MODEL_FILEPATH);\n",
    "}"
   ],
   "outputs": [
    {
     "output_type": "execute_result",
     "data": {
      "text/plain": "=============== Training  model ===============\r\n"
     },
     "execution_count": 1,
     "metadata": {}
    },
    {
     "output_type": "execute_result",
     "data": {
      "text/plain": "=============== End of training process ===============\r\n"
     },
     "execution_count": 1,
     "metadata": {}
    },
    {
     "output_type": "execute_result",
     "data": {
      "text/plain": "=============== Cross-validating to get model's accuracy metrics ===============\r\n"
     },
     "execution_count": 1,
     "metadata": {}
    },
    {
     "output_type": "execute_result",
     "data": {
      "text/plain": "*************************************************************************************************************\r\n"
     },
     "execution_count": 1,
     "metadata": {}
    },
    {
     "output_type": "execute_result",
     "data": {
      "text/plain": "*       Metrics for Multi-class Classification model      \r\n"
     },
     "execution_count": 1,
     "metadata": {}
    },
    {
     "output_type": "execute_result",
     "data": {
      "text/plain": "*------------------------------------------------------------------------------------------------------------\r\n"
     },
     "execution_count": 1,
     "metadata": {}
    },
    {
     "output_type": "execute_result",
     "data": {
      "text/plain": "*       Average MicroAccuracy:    0.821  - Standard deviation: ()  - Confidence Interval 95%: ()\r\n"
     },
     "execution_count": 1,
     "metadata": {}
    },
    {
     "output_type": "execute_result",
     "data": {
      "text/plain": "*       Average MacroAccuracy:    0.821  - Standard deviation: ()  - Confidence Interval 95%: ()\r\n"
     },
     "execution_count": 1,
     "metadata": {}
    },
    {
     "output_type": "execute_result",
     "data": {
      "text/plain": "*       Average LogLoss:          .905  - Standard deviation: (.008)  - Confidence Interval 95%: (.008)\r\n"
     },
     "execution_count": 1,
     "metadata": {}
    },
    {
     "output_type": "execute_result",
     "data": {
      "text/plain": "*       Average LogLossReduction: -.305  - Standard deviation: (.012)  - Confidence Interval 95%: (.012)\r\n"
     },
     "execution_count": 1,
     "metadata": {}
    },
    {
     "output_type": "execute_result",
     "data": {
      "text/plain": "*************************************************************************************************************\r\n"
     },
     "execution_count": 1,
     "metadata": {}
    },
    {
     "output_type": "execute_result",
     "data": {
      "text/plain": "=============== Saving the model  ===============\r\n"
     },
     "execution_count": 1,
     "metadata": {}
    },
    {
     "output_type": "execute_result",
     "data": {
      "text/plain": "The model is saved to MLModel.zip\r\n"
     },
     "execution_count": 1,
     "metadata": {}
    }
   ]
  },
  {
   "cell_type": "markdown",
   "metadata": {},
   "source": [
    "Cria um método para retornar um \"motor\" de predição baseado nos modelos definidos no ETL."
   ]
  },
  {
   "cell_type": "code",
   "execution_count": 1,
   "metadata": {},
   "source": [
    "public PredictionEngine<ModelInput, ModelOutput> CreatePredictionEngine()\n",
    "{\n",
    "    var mlContext = new MLContext();\n",
    "\n",
    "    var transformer = mlContext.Model.Load(MODEL_FILEPATH, out var modelInputSchema);\n",
    "    var predictionEngine = mlContext.Model.CreatePredictionEngine<ModelInput, ModelOutput>(transformer);\n",
    "\n",
    "    return predictionEngine;\n",
    "}\n",
    "\n",
    "var predictionEngine = new Lazy<PredictionEngine<ModelInput, ModelOutput>>(CreatePredictionEngine);"
   ],
   "outputs": []
  },
  {
   "cell_type": "markdown",
   "metadata": {},
   "source": [
    "Cria um método auxiliativo para a realização de predições."
   ]
  },
  {
   "cell_type": "code",
   "execution_count": 1,
   "metadata": {},
   "source": [
    "public ModelOutput Predict(ModelInput input)\n",
    "{\n",
    "    ModelOutput result = predictionEngine.Value.Predict(input);\n",
    "    return result;\n",
    "}"
   ],
   "outputs": []
  },
  {
   "cell_type": "markdown",
   "metadata": {},
   "source": [
    "Instancia um modelo de dado para ser utilizado durante a predição."
   ]
  },
  {
   "cell_type": "code",
   "execution_count": 1,
   "metadata": {},
   "source": [
    "var sampleData = new ModelInput\n",
    "{\n",
    "    Text = \"I love Machine Learning!\"\n",
    "};"
   ],
   "outputs": []
  },
  {
   "cell_type": "markdown",
   "metadata": {},
   "source": [
    "Exibe resultados da predição."
   ]
  },
  {
   "cell_type": "code",
   "execution_count": 1,
   "metadata": {},
   "source": [
    "var modelOutput = Predict(sampleData);\n",
    "\n",
    "Console.WriteLine(\"Using model to make single prediction -- Comparing actual Sentiment with predicted Sentiment from sample data...\\n\\n\");\n",
    "Console.WriteLine($\"Text: {sampleData.Text}\");\n",
    "Console.WriteLine($\"\\n\\nPredicted Sentiment value {modelOutput.Prediction} \\nPredicted Sentiment scores: [{String.Join(\",\", modelOutput.Score)}]\\n\\n\");"
   ],
   "outputs": [
    {
     "output_type": "execute_result",
     "data": {
      "text/plain": "Using model to make single prediction -- Comparing actual Sentiment with predicted Sentiment from sample data...\n\n\r\n"
     },
     "execution_count": 1,
     "metadata": {}
    },
    {
     "output_type": "execute_result",
     "data": {
      "text/plain": "Text: I love Machine Learning!\r\n"
     },
     "execution_count": 1,
     "metadata": {}
    },
    {
     "output_type": "execute_result",
     "data": {
      "text/plain": "\n\nPredicted Sentiment value 4 \nPredicted Sentiment scores: [0.011912695,0.9880873]\n\n\r\n"
     },
     "execution_count": 1,
     "metadata": {}
    }
   ]
  },
  {
   "cell_type": "markdown",
   "metadata": {},
   "source": [
    "## Conclusões\n",
    "\n",
    "Realizando alguns testes com o modelo de predição, obtive resultados satisfatórios na maioria das vezes. O [ML.NET Model Builder](https://docs.microsoft.com/en-us/dotnet/machine-learning/automate-training-with-model-builder) tem como proposta realizar vários treinamentos utilizando diferentes algoritmos de predição e selecionar aquele que mais se destacou entre os demais. O método de classificação multi nomial nesse cenário teve os melhores resultados que, como explicado acima, permite um treinamento mais imparcial devido a ele não considerar a correlação entre os dados. Contudo, percebi que durantes os testes o modelo de predição quando não tem conhecimento de algum termo, ele retorna na maioria das vezes valores baixos e confessor que é até esperado esse comportamento, entretanto, como na proposta apresentada pela [Sentiment140](http://help.sentiment140.com/), quando foi realizado estudos analíticos com base nos dados, era esperados valores variando entre 0 para negativo, 2 para neutro e 4 para positivo, mas principalmente no gráfico pizza foi perceptível que houve uma polarização entre os dados em que, como consequência, fez o modelo de treinamento proposto utilizar uma estratégia próxima da classificação binário que, de certo modo, se não houvesse tal polarização talvez os resultados e até mesmo o modelo de treinamento poderia comportar melhor e realizar uma predição mais precisa dos dados."
   ]
  }
 ],
 "metadata": {
  "kernelspec": {
   "display_name": ".NET (C#)",
   "language": "C#",
   "name": ".net-csharp"
  },
  "language_info": {
   "file_extension": ".cs",
   "mimetype": "text/x-csharp",
   "name": "C#",
   "pygments_lexer": "csharp",
   "version": "8.0"
  }
 },
 "nbformat": 4,
 "nbformat_minor": 4
}